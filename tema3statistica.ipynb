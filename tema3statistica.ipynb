{
 "cells": [
  {
   "cell_type": "code",
   "execution_count": 13,
   "metadata": {},
   "outputs": [],
   "source": [
    "import numpy as np\n",
    "import pandas as pd\n",
    "import scipy\n",
    "import matplotlib.pyplot as plt\n",
    "import math as m\n",
    "import scipy.stats as stats"
   ]
  },
  {
   "cell_type": "code",
   "execution_count": 11,
   "metadata": {},
   "outputs": [
    {
     "name": "stdout",
     "output_type": "stream",
     "text": [
      "1.0\n",
      "1.0\n"
     ]
    },
    {
     "data": {
      "text/plain": [
       "0.361594608053565"
      ]
     },
     "execution_count": 11,
     "metadata": {},
     "output_type": "execute_result"
    }
   ],
   "source": [
    "valoriobservate=[3,5,12]\n",
    "print(stats.binom_test(x=[3,2], p=0.5, alternative='two-sided'))\n",
    "print(stats.binom_test(x=[5,5], p=0.5, alternative='two-sided'))\n",
    "stats.binom_test(x=[12,18], p=0.5, alternative='two-sided')\n"
   ]
  },
  {
   "cell_type": "code",
   "execution_count": 30,
   "metadata": {},
   "outputs": [
    {
     "name": "stdout",
     "output_type": "stream",
     "text": [
      "1.0\n",
      "0.7539062500000002\n",
      "0.5846647117286928\n"
     ]
    }
   ],
   "source": [
    "draws = 5\n",
    "coin_sample = np.random.binomial(1, 0.5, draws)\n",
    "coin_average = [coin_sample[:jj].mean() for jj in range(1, draws)]\n",
    "heads = np.sum(coin_sample[coin_sample==1])\n",
    "print(stats.binom_test(x=[heads,5-heads], p=0.5, alternative='two-sided'))\n",
    "draws1 = 10\n",
    "coin_sample = np.random.binomial(1, 0.5, draws1)\n",
    "coin_average = [coin_sample[:jj].mean() for jj in range(1, draws1)]\n",
    "heads = np.sum(coin_sample[coin_sample==1])\n",
    "print(stats.binom_test(x=[heads,10-heads], p=0.5, alternative='two-sided'))\n",
    "draws2 = 30\n",
    "coin_sample = np.random.binomial(1, 0.5, draws2)\n",
    "coin_average = [coin_sample[:jj].mean() for jj in range(1, draws2)]\n",
    "heads = np.sum(coin_sample[coin_sample==1])\n",
    "print(stats.binom_test(x=[heads,30-heads], p=0.5, alternative='two-sided'))\n"
   ]
  },
  {
   "cell_type": "code",
   "execution_count": 31,
   "metadata": {},
   "outputs": [],
   "source": [
    "pearson = pd.read_csv('pearson.csv')"
   ]
  },
  {
   "cell_type": "code",
   "execution_count": 35,
   "metadata": {},
   "outputs": [
    {
     "data": {
      "text/html": [
       "<div>\n",
       "<style scoped>\n",
       "    .dataframe tbody tr th:only-of-type {\n",
       "        vertical-align: middle;\n",
       "    }\n",
       "\n",
       "    .dataframe tbody tr th {\n",
       "        vertical-align: top;\n",
       "    }\n",
       "\n",
       "    .dataframe thead th {\n",
       "        text-align: right;\n",
       "    }\n",
       "</style>\n",
       "<table border=\"1\" class=\"dataframe\">\n",
       "  <thead>\n",
       "    <tr style=\"text-align: right;\">\n",
       "      <th></th>\n",
       "      <th>child</th>\n",
       "      <th>parent</th>\n",
       "      <th>frequency</th>\n",
       "      <th>gp</th>\n",
       "      <th>par</th>\n",
       "      <th>chl</th>\n",
       "    </tr>\n",
       "  </thead>\n",
       "  <tbody>\n",
       "    <tr>\n",
       "      <td>0</td>\n",
       "      <td>59.5</td>\n",
       "      <td>62.5</td>\n",
       "      <td>0.50</td>\n",
       "      <td>fs</td>\n",
       "      <td>Father</td>\n",
       "      <td>Son</td>\n",
       "    </tr>\n",
       "    <tr>\n",
       "      <td>1</td>\n",
       "      <td>59.5</td>\n",
       "      <td>63.5</td>\n",
       "      <td>0.50</td>\n",
       "      <td>fs</td>\n",
       "      <td>Father</td>\n",
       "      <td>Son</td>\n",
       "    </tr>\n",
       "    <tr>\n",
       "      <td>2</td>\n",
       "      <td>59.5</td>\n",
       "      <td>64.5</td>\n",
       "      <td>1.00</td>\n",
       "      <td>fs</td>\n",
       "      <td>Father</td>\n",
       "      <td>Son</td>\n",
       "    </tr>\n",
       "    <tr>\n",
       "      <td>3</td>\n",
       "      <td>60.5</td>\n",
       "      <td>62.5</td>\n",
       "      <td>0.50</td>\n",
       "      <td>fs</td>\n",
       "      <td>Father</td>\n",
       "      <td>Son</td>\n",
       "    </tr>\n",
       "    <tr>\n",
       "      <td>4</td>\n",
       "      <td>60.5</td>\n",
       "      <td>66.5</td>\n",
       "      <td>1.00</td>\n",
       "      <td>fs</td>\n",
       "      <td>Father</td>\n",
       "      <td>Son</td>\n",
       "    </tr>\n",
       "    <tr>\n",
       "      <td>...</td>\n",
       "      <td>...</td>\n",
       "      <td>...</td>\n",
       "      <td>...</td>\n",
       "      <td>...</td>\n",
       "      <td>...</td>\n",
       "      <td>...</td>\n",
       "    </tr>\n",
       "    <tr>\n",
       "      <td>740</td>\n",
       "      <td>71.5</td>\n",
       "      <td>70.5</td>\n",
       "      <td>0.50</td>\n",
       "      <td>fd</td>\n",
       "      <td>Father</td>\n",
       "      <td>Daughter</td>\n",
       "    </tr>\n",
       "    <tr>\n",
       "      <td>741</td>\n",
       "      <td>71.5</td>\n",
       "      <td>71.5</td>\n",
       "      <td>0.50</td>\n",
       "      <td>fd</td>\n",
       "      <td>Father</td>\n",
       "      <td>Daughter</td>\n",
       "    </tr>\n",
       "    <tr>\n",
       "      <td>742</td>\n",
       "      <td>71.5</td>\n",
       "      <td>72.5</td>\n",
       "      <td>1.50</td>\n",
       "      <td>fd</td>\n",
       "      <td>Father</td>\n",
       "      <td>Daughter</td>\n",
       "    </tr>\n",
       "    <tr>\n",
       "      <td>743</td>\n",
       "      <td>71.5</td>\n",
       "      <td>73.5</td>\n",
       "      <td>0.75</td>\n",
       "      <td>fd</td>\n",
       "      <td>Father</td>\n",
       "      <td>Daughter</td>\n",
       "    </tr>\n",
       "    <tr>\n",
       "      <td>744</td>\n",
       "      <td>71.5</td>\n",
       "      <td>74.5</td>\n",
       "      <td>0.25</td>\n",
       "      <td>fd</td>\n",
       "      <td>Father</td>\n",
       "      <td>Daughter</td>\n",
       "    </tr>\n",
       "  </tbody>\n",
       "</table>\n",
       "<p>745 rows × 6 columns</p>\n",
       "</div>"
      ],
      "text/plain": [
       "     child  parent  frequency  gp     par       chl\n",
       "0     59.5    62.5       0.50  fs  Father       Son\n",
       "1     59.5    63.5       0.50  fs  Father       Son\n",
       "2     59.5    64.5       1.00  fs  Father       Son\n",
       "3     60.5    62.5       0.50  fs  Father       Son\n",
       "4     60.5    66.5       1.00  fs  Father       Son\n",
       "..     ...     ...        ...  ..     ...       ...\n",
       "740   71.5    70.5       0.50  fd  Father  Daughter\n",
       "741   71.5    71.5       0.50  fd  Father  Daughter\n",
       "742   71.5    72.5       1.50  fd  Father  Daughter\n",
       "743   71.5    73.5       0.75  fd  Father  Daughter\n",
       "744   71.5    74.5       0.25  fd  Father  Daughter\n",
       "\n",
       "[745 rows x 6 columns]"
      ]
     },
     "execution_count": 35,
     "metadata": {},
     "output_type": "execute_result"
    }
   ],
   "source": [
    "pearson.head(-1)"
   ]
  },
  {
   "cell_type": "code",
   "execution_count": 36,
   "metadata": {},
   "outputs": [],
   "source": [
    "fs = pearson[pearson['gp']=='fs']\n",
    "fd = pearson[pearson['gp']=='fd']"
   ]
  },
  {
   "cell_type": "code",
   "execution_count": 43,
   "metadata": {
    "scrolled": true
   },
   "outputs": [
    {
     "data": {
      "image/png": "[encoded data removed]",
      "text/plain": [
       "<Figure size 432x288 with 1 Axes>"
      ]
     },
     "metadata": {
      "needs_background": "light"
     },
     "output_type": "display_data"
    }
   ],
   "source": [
    "plt.scatter(\n",
    "    fs['child'] + np.random.normal(scale=0.2, size=fs.shape[0]), \n",
    "    fs['parent'] + np.random.normal(scale=0.2, size=fs.shape[0]), c='r')\n",
    "plt.scatter(\n",
    "    fd['child'] + np.random.normal(scale=0.2, size=fd.shape[0]), \n",
    "    fd['parent'] + np.random.normal(scale=0.2, size=fd.shape[0]), c='b')\n",
    "plt.show()"
   ]
  },
  {
   "cell_type": "code",
   "execution_count": 38,
   "metadata": {},
   "outputs": [
    {
     "data": {
      "text/plain": [
       "(0.5206723830914775, 7.954369816601039e-14)"
      ]
     },
     "execution_count": 38,
     "metadata": {},
     "output_type": "execute_result"
    }
   ],
   "source": [
    "stats.pearsonr(fs['parent'], fs['child'])"
   ]
  },
  {
   "cell_type": "code",
   "execution_count": null,
   "metadata": {},
   "outputs": [],
   "source": []
  }
 ],
 "metadata": {
  "kernelspec": {
   "display_name": "Python 3",
   "language": "python",
   "name": "python3"
  },
  "language_info": {
   "codemirror_mode": {
    "name": "ipython",
    "version": 3
   },
   "file_extension": ".py",
   "mimetype": "text/x-python",
   "name": "python",
   "nbconvert_exporter": "python",
   "pygments_lexer": "ipython3",
   "version": "3.7.4"
  }
 },
 "nbformat": 4,
 "nbformat_minor": 2
}
